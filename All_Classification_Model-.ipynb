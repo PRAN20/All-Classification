{
  "nbformat": 4,
  "nbformat_minor": 0,
  "metadata": {
    "colab": {
      "name": "All-Classification-Model.ipynb",
      "provenance": [],
      "collapsed_sections": [
        "6kONjXycL46I",
        "R_u7YGrWMPdt",
        "k0qkbkiFVGVS",
        "zoc9oVerXwxN",
        "bC4Hdr-BYOUd",
        "5fXcMm-_ZgDd",
        "a50Vdm7zaPfu",
        "k2Gs3nfUeH6e",
        "769KZo9tfKwT",
        "SE6FCEdufxDB"
      ],
      "toc_visible": true,
      "mount_file_id": "1Dhqnz5OqtwbqDWVZYqRQbu_mAyU30-Mm",
      "authorship_tag": "ABX9TyOboKmtdJl1wqvLrweSuJab",
      "include_colab_link": true
    },
    "kernelspec": {
      "name": "python3",
      "display_name": "Python 3"
    },
    "language_info": {
      "name": "python"
    }
  },
  "cells": [
    {
      "cell_type": "markdown",
      "metadata": {
        "id": "view-in-github",
        "colab_type": "text"
      },
      "source": [
        "<a href=\"https://colab.research.google.com/github/PRAN20/All-Classification/blob/main/All_Classification_Model-.ipynb\" target=\"_parent\"><img src=\"https://colab.research.google.com/assets/colab-badge.svg\" alt=\"Open In Colab\"/></a>"
      ]
    },
    {
      "cell_type": "markdown",
      "source": [
        "# **Calculating Accuracy by Using Different Classification**"
      ],
      "metadata": {
        "id": "4m4zz4fayu1A"
      }
    },
    {
      "cell_type": "markdown",
      "source": [
        "# **Importing Header Files**"
      ],
      "metadata": {
        "id": "6kONjXycL46I"
      }
    },
    {
      "cell_type": "code",
      "execution_count": 82,
      "metadata": {
        "id": "GkgEbfzqL3vE"
      },
      "outputs": [],
      "source": [
        "import pandas as ps\n",
        "import numpy as np\n",
        "import matplotlib.pyplot as plt\n",
        "import os"
      ]
    },
    {
      "cell_type": "markdown",
      "source": [
        "# **Importing DataSet**"
      ],
      "metadata": {
        "id": "R_u7YGrWMPdt"
      }
    },
    {
      "cell_type": "code",
      "source": [
        "from google.colab import drive\n",
        "drive.mount('/content/drive')"
      ],
      "metadata": {
        "colab": {
          "base_uri": "https://localhost:8080/"
        },
        "id": "KOoJEw5wPW10",
        "outputId": "38fc5419-f008-4e26-83c3-aa66d0dea9ea"
      },
      "execution_count": 2,
      "outputs": [
        {
          "output_type": "stream",
          "name": "stdout",
          "text": [
            "Drive already mounted at /content/drive; to attempt to forcibly remount, call drive.mount(\"/content/drive\", force_remount=True).\n"
          ]
        }
      ]
    },
    {
      "cell_type": "code",
      "source": [
        "os.makedirs('dataset')"
      ],
      "metadata": {
        "id": "ERRfD0VRWptc"
      },
      "execution_count": 4,
      "outputs": []
    },
    {
      "cell_type": "code",
      "source": [
        "!unzip \"/content/drive/MyDrive/dataset.zip\" -d \"dataset\""
      ],
      "metadata": {
        "colab": {
          "base_uri": "https://localhost:8080/"
        },
        "id": "hO9OBgBfPdsG",
        "outputId": "01729ffc-8f7f-4f96-90ff-4e7cac3432c7"
      },
      "execution_count": 5,
      "outputs": [
        {
          "output_type": "stream",
          "name": "stdout",
          "text": [
            "Archive:  /content/drive/MyDrive/dataset.zip\n",
            "  inflating: dataset/dataset/test_features.csv  \n",
            "  inflating: dataset/dataset/train_gender (2).csv  \n",
            "  inflating: dataset/dataset/train_gender_labels (2).csv  \n",
            "  inflating: dataset/dataset/true_values.csv  \n"
          ]
        }
      ]
    },
    {
      "cell_type": "code",
      "source": [
        "x_train = ps.read_csv(\"/content/dataset/dataset/train_gender (2).csv\")"
      ],
      "metadata": {
        "id": "UKqJrKxOSwcW"
      },
      "execution_count": 6,
      "outputs": []
    },
    {
      "cell_type": "code",
      "source": [
        "y_train = ps.read_csv(\"/content/dataset/dataset/train_gender_labels (2).csv\")"
      ],
      "metadata": {
        "id": "o7Js47ZiSyrv"
      },
      "execution_count": 7,
      "outputs": []
    },
    {
      "cell_type": "code",
      "source": [
        "x_test = ps.read_csv(\"/content/dataset/dataset/test_features.csv\")"
      ],
      "metadata": {
        "id": "466tejSzSysr"
      },
      "execution_count": 8,
      "outputs": []
    },
    {
      "cell_type": "code",
      "source": [
        "y_test = ps.read_csv(\"/content/dataset/dataset/true_values.csv\")"
      ],
      "metadata": {
        "id": "ayiHGxkaSyyu"
      },
      "execution_count": 9,
      "outputs": []
    },
    {
      "cell_type": "markdown",
      "source": [
        "**Determing The Shape of all The Data**"
      ],
      "metadata": {
        "id": "bGB5LJ4_Us8_"
      }
    },
    {
      "cell_type": "code",
      "source": [
        "x_train.shape"
      ],
      "metadata": {
        "colab": {
          "base_uri": "https://localhost:8080/"
        },
        "id": "oV5XxiucUxox",
        "outputId": "c1c76381-d487-401f-939e-e2446f43aedb"
      },
      "execution_count": 10,
      "outputs": [
        {
          "output_type": "execute_result",
          "data": {
            "text/plain": [
              "(47008, 512)"
            ]
          },
          "metadata": {},
          "execution_count": 10
        }
      ]
    },
    {
      "cell_type": "code",
      "source": [
        "y_train.shape"
      ],
      "metadata": {
        "colab": {
          "base_uri": "https://localhost:8080/"
        },
        "id": "qkEZXoJWU0Bk",
        "outputId": "1fec9aa7-9d4f-494f-fb3f-6504f364c0ef"
      },
      "execution_count": 97,
      "outputs": [
        {
          "output_type": "execute_result",
          "data": {
            "text/plain": [
              "(47008, 1)"
            ]
          },
          "metadata": {},
          "execution_count": 97
        }
      ]
    },
    {
      "cell_type": "code",
      "source": [
        "x_test.shape"
      ],
      "metadata": {
        "colab": {
          "base_uri": "https://localhost:8080/"
        },
        "id": "39UpnG05U2rO",
        "outputId": "43f34ae4-3039-42a0-b7a8-474be2cf1bce"
      },
      "execution_count": 12,
      "outputs": [
        {
          "output_type": "execute_result",
          "data": {
            "text/plain": [
              "(2001, 512)"
            ]
          },
          "metadata": {},
          "execution_count": 12
        }
      ]
    },
    {
      "cell_type": "code",
      "source": [
        "y_test.shape"
      ],
      "metadata": {
        "colab": {
          "base_uri": "https://localhost:8080/"
        },
        "id": "pHjkvAiqU4LZ",
        "outputId": "53ba37a6-71e0-4631-cafa-b40e4a7435b2"
      },
      "execution_count": 13,
      "outputs": [
        {
          "output_type": "execute_result",
          "data": {
            "text/plain": [
              "(2001, 1)"
            ]
          },
          "metadata": {},
          "execution_count": 13
        }
      ]
    },
    {
      "cell_type": "markdown",
      "source": [
        "# **Training The MLP Model**"
      ],
      "metadata": {
        "id": "k0qkbkiFVGVS"
      }
    },
    {
      "cell_type": "code",
      "source": [
        "from sklearn.neural_network import MLPClassifier\n",
        "classifier = MLPClassifier(max_iter = 500, activation = 'relu')\n",
        "classifier.fit(x_train, y_train)"
      ],
      "metadata": {
        "colab": {
          "base_uri": "https://localhost:8080/"
        },
        "id": "HqTNKgr1VMnV",
        "outputId": "9abd0feb-a581-4141-fc11-cf18bd58329d"
      },
      "execution_count": 98,
      "outputs": [
        {
          "output_type": "stream",
          "name": "stderr",
          "text": [
            "/usr/local/lib/python3.7/dist-packages/sklearn/neural_network/_multilayer_perceptron.py:1109: DataConversionWarning: A column-vector y was passed when a 1d array was expected. Please change the shape of y to (n_samples, ), for example using ravel().\n",
            "  y = column_or_1d(y, warn=True)\n"
          ]
        },
        {
          "output_type": "execute_result",
          "data": {
            "text/plain": [
              "MLPClassifier(max_iter=500)"
            ]
          },
          "metadata": {},
          "execution_count": 98
        }
      ]
    },
    {
      "cell_type": "markdown",
      "source": [
        "**Testing the Model**"
      ],
      "metadata": {
        "id": "JoqA7cxOWC86"
      }
    },
    {
      "cell_type": "code",
      "source": [
        "y_pred = classifier.predict(x_test)"
      ],
      "metadata": {
        "colab": {
          "base_uri": "https://localhost:8080/"
        },
        "id": "PdJqNaJcWJqn",
        "outputId": "352d060d-3cec-49be-eb3b-5267c73399d6"
      },
      "execution_count": 99,
      "outputs": [
        {
          "output_type": "stream",
          "name": "stderr",
          "text": [
            "/usr/local/lib/python3.7/dist-packages/sklearn/base.py:493: FutureWarning: The feature names should match those that were passed during fit. Starting version 1.2, an error will be raised.\n",
            "Feature names unseen at fit time:\n",
            "- -1.025214493274688721e-01\n",
            "- -1.033663004636764526e-02\n",
            "- -1.036800295114517212e-01\n",
            "- -1.066513806581497192e-01\n",
            "- -1.070177853107452393e-01\n",
            "- ...\n",
            "Feature names seen at fit time, yet now missing:\n",
            "- -1.000557318329811096e-01\n",
            "- -1.001642495393753052e-01\n",
            "- -1.001687198877334595e-01\n",
            "- -1.003685966134071350e-01\n",
            "- -1.003979146480560303e-01\n",
            "- ...\n",
            "\n",
            "  warnings.warn(message, FutureWarning)\n"
          ]
        }
      ]
    },
    {
      "cell_type": "code",
      "source": [
        "print(y_pred)\n",
        "y_pred.shape"
      ],
      "metadata": {
        "colab": {
          "base_uri": "https://localhost:8080/"
        },
        "id": "DGFEU_IVWJru",
        "outputId": "7c30279d-866f-4818-941d-21bbca254402"
      },
      "execution_count": 100,
      "outputs": [
        {
          "output_type": "stream",
          "name": "stdout",
          "text": [
            "[1. 1. 1. ... 0. 0. 0.]\n"
          ]
        },
        {
          "output_type": "execute_result",
          "data": {
            "text/plain": [
              "(2001,)"
            ]
          },
          "metadata": {},
          "execution_count": 100
        }
      ]
    },
    {
      "cell_type": "markdown",
      "source": [
        "**Confusion Matrix**"
      ],
      "metadata": {
        "id": "Hh6_IkjtWccK"
      }
    },
    {
      "cell_type": "code",
      "source": [
        "from sklearn.metrics import confusion_matrix\n",
        "confusion_matrix(y_test,y_pred)"
      ],
      "metadata": {
        "colab": {
          "base_uri": "https://localhost:8080/"
        },
        "id": "dnytOR3AWfRx",
        "outputId": "6d96093b-a0fc-4b12-9eb4-bfa890ce6556"
      },
      "execution_count": 101,
      "outputs": [
        {
          "output_type": "execute_result",
          "data": {
            "text/plain": [
              "array([[754, 247],\n",
              "       [ 19, 981]])"
            ]
          },
          "metadata": {},
          "execution_count": 101
        }
      ]
    },
    {
      "cell_type": "markdown",
      "source": [
        "**Calculating the Accuracy of the Model**"
      ],
      "metadata": {
        "id": "39zQ9wPGWl14"
      }
    },
    {
      "cell_type": "code",
      "source": [
        "from sklearn.metrics import classification_report\n",
        "print(classification_report(y_test,y_pred))"
      ],
      "metadata": {
        "colab": {
          "base_uri": "https://localhost:8080/"
        },
        "id": "UJLdXHlGWquA",
        "outputId": "71cddc12-9496-4b8a-9068-60a140dabcc3"
      },
      "execution_count": 102,
      "outputs": [
        {
          "output_type": "stream",
          "name": "stdout",
          "text": [
            "              precision    recall  f1-score   support\n",
            "\n",
            "         0.0       0.98      0.75      0.85      1001\n",
            "         1.0       0.80      0.98      0.88      1000\n",
            "\n",
            "    accuracy                           0.87      2001\n",
            "   macro avg       0.89      0.87      0.87      2001\n",
            "weighted avg       0.89      0.87      0.87      2001\n",
            "\n"
          ]
        }
      ]
    },
    {
      "cell_type": "code",
      "source": [
        "from sklearn.metrics import accuracy_score\n",
        "mlp = accuracy_score(y_test, y_pred)\n",
        "mlp"
      ],
      "metadata": {
        "colab": {
          "base_uri": "https://localhost:8080/"
        },
        "id": "pThHbjIfZUDL",
        "outputId": "2a361934-01de-415b-eeda-e962be294483"
      },
      "execution_count": 104,
      "outputs": [
        {
          "output_type": "execute_result",
          "data": {
            "text/plain": [
              "0.8670664667666167"
            ]
          },
          "metadata": {},
          "execution_count": 104
        }
      ]
    },
    {
      "cell_type": "markdown",
      "source": [
        "# **Naive-Bays Model**"
      ],
      "metadata": {
        "id": "zoc9oVerXwxN"
      }
    },
    {
      "cell_type": "code",
      "source": [
        "from sklearn.naive_bayes import GaussianNB\n",
        "clf = GaussianNB()\n",
        "clf.fit(x_train, y_train)"
      ],
      "metadata": {
        "colab": {
          "base_uri": "https://localhost:8080/"
        },
        "id": "zMgebDUcX0HQ",
        "outputId": "e2880b03-a5e0-4986-ed66-e61b351b4736"
      },
      "execution_count": 105,
      "outputs": [
        {
          "output_type": "stream",
          "name": "stderr",
          "text": [
            "/usr/local/lib/python3.7/dist-packages/sklearn/utils/validation.py:993: DataConversionWarning: A column-vector y was passed when a 1d array was expected. Please change the shape of y to (n_samples, ), for example using ravel().\n",
            "  y = column_or_1d(y, warn=True)\n"
          ]
        },
        {
          "output_type": "execute_result",
          "data": {
            "text/plain": [
              "GaussianNB()"
            ]
          },
          "metadata": {},
          "execution_count": 105
        }
      ]
    },
    {
      "cell_type": "code",
      "source": [
        "y_pred = clf.predict(x_test)"
      ],
      "metadata": {
        "colab": {
          "base_uri": "https://localhost:8080/"
        },
        "id": "eQeoSbq3X9ki",
        "outputId": "b6d61668-f6a4-47a6-d494-aafe43ba9df8"
      },
      "execution_count": 106,
      "outputs": [
        {
          "output_type": "stream",
          "name": "stderr",
          "text": [
            "/usr/local/lib/python3.7/dist-packages/sklearn/base.py:493: FutureWarning: The feature names should match those that were passed during fit. Starting version 1.2, an error will be raised.\n",
            "Feature names unseen at fit time:\n",
            "- -1.025214493274688721e-01\n",
            "- -1.033663004636764526e-02\n",
            "- -1.036800295114517212e-01\n",
            "- -1.066513806581497192e-01\n",
            "- -1.070177853107452393e-01\n",
            "- ...\n",
            "Feature names seen at fit time, yet now missing:\n",
            "- -1.000557318329811096e-01\n",
            "- -1.001642495393753052e-01\n",
            "- -1.001687198877334595e-01\n",
            "- -1.003685966134071350e-01\n",
            "- -1.003979146480560303e-01\n",
            "- ...\n",
            "\n",
            "  warnings.warn(message, FutureWarning)\n"
          ]
        }
      ]
    },
    {
      "cell_type": "code",
      "source": [
        "from sklearn.metrics import confusion_matrix, accuracy_score\n",
        "cm = confusion_matrix(y_test, y_pred)\n",
        "print(cm)\n",
        "naive = accuracy_score(y_test, y_pred)\n",
        "naive"
      ],
      "metadata": {
        "colab": {
          "base_uri": "https://localhost:8080/"
        },
        "id": "j83IlSrKYGr4",
        "outputId": "d881cecd-ae41-40c3-fb30-c18d9b7a6787"
      },
      "execution_count": 108,
      "outputs": [
        {
          "output_type": "stream",
          "name": "stdout",
          "text": [
            "[[714 287]\n",
            " [ 18 982]]\n"
          ]
        },
        {
          "output_type": "execute_result",
          "data": {
            "text/plain": [
              "0.847576211894053"
            ]
          },
          "metadata": {},
          "execution_count": 108
        }
      ]
    },
    {
      "cell_type": "code",
      "source": [
        "from sklearn.metrics import classification_report\n",
        "print(classification_report(y_test,y_pred))"
      ],
      "metadata": {
        "colab": {
          "base_uri": "https://localhost:8080/"
        },
        "id": "lFf4yUNPYLxD",
        "outputId": "051214af-55e1-4261-e2da-72ee427116ae"
      },
      "execution_count": 109,
      "outputs": [
        {
          "output_type": "stream",
          "name": "stdout",
          "text": [
            "              precision    recall  f1-score   support\n",
            "\n",
            "         0.0       0.98      0.71      0.82      1001\n",
            "         1.0       0.77      0.98      0.87      1000\n",
            "\n",
            "    accuracy                           0.85      2001\n",
            "   macro avg       0.87      0.85      0.84      2001\n",
            "weighted avg       0.87      0.85      0.84      2001\n",
            "\n"
          ]
        }
      ]
    },
    {
      "cell_type": "markdown",
      "source": [
        "# **Random Forest Classification**"
      ],
      "metadata": {
        "id": "bC4Hdr-BYOUd"
      }
    },
    {
      "cell_type": "code",
      "source": [
        "from sklearn.ensemble import RandomForestClassifier\n",
        "clf1 = RandomForestClassifier(n_estimators = 70, oob_score = True, n_jobs = -1,max_features = None, min_samples_leaf = 30)\n",
        "clf1.fit(x_train, y_train)"
      ],
      "metadata": {
        "colab": {
          "base_uri": "https://localhost:8080/"
        },
        "id": "4F-Og9aHYRoU",
        "outputId": "59edb653-afec-4223-84d5-49756c8bdc35"
      },
      "execution_count": 156,
      "outputs": [
        {
          "output_type": "stream",
          "name": "stderr",
          "text": [
            "/usr/local/lib/python3.7/dist-packages/ipykernel_launcher.py:3: DataConversionWarning: A column-vector y was passed when a 1d array was expected. Please change the shape of y to (n_samples,), for example using ravel().\n",
            "  This is separate from the ipykernel package so we can avoid doing imports until\n"
          ]
        },
        {
          "output_type": "execute_result",
          "data": {
            "text/plain": [
              "RandomForestClassifier(max_features=None, min_samples_leaf=30, n_estimators=70,\n",
              "                       n_jobs=-1, oob_score=True)"
            ]
          },
          "metadata": {},
          "execution_count": 156
        }
      ]
    },
    {
      "cell_type": "code",
      "source": [
        "y_pred = clf1.predict(x_test)"
      ],
      "metadata": {
        "colab": {
          "base_uri": "https://localhost:8080/"
        },
        "id": "zQtnAn3mYj6P",
        "outputId": "3e388587-7606-47eb-bff5-aa51abd91d0a"
      },
      "execution_count": 157,
      "outputs": [
        {
          "output_type": "stream",
          "name": "stderr",
          "text": [
            "/usr/local/lib/python3.7/dist-packages/sklearn/base.py:493: FutureWarning: The feature names should match those that were passed during fit. Starting version 1.2, an error will be raised.\n",
            "Feature names unseen at fit time:\n",
            "- -1.025214493274688721e-01\n",
            "- -1.033663004636764526e-02\n",
            "- -1.036800295114517212e-01\n",
            "- -1.066513806581497192e-01\n",
            "- -1.070177853107452393e-01\n",
            "- ...\n",
            "Feature names seen at fit time, yet now missing:\n",
            "- -1.000557318329811096e-01\n",
            "- -1.001642495393753052e-01\n",
            "- -1.001687198877334595e-01\n",
            "- -1.003685966134071350e-01\n",
            "- -1.003979146480560303e-01\n",
            "- ...\n",
            "\n",
            "  warnings.warn(message, FutureWarning)\n"
          ]
        }
      ]
    },
    {
      "cell_type": "code",
      "source": [
        "from sklearn.metrics import confusion_matrix, accuracy_score\n",
        "cm = confusion_matrix(y_test, y_pred)\n",
        "print(cm)\n",
        "rand = accuracy_score(y_test, y_pred)\n",
        "rand"
      ],
      "metadata": {
        "colab": {
          "base_uri": "https://localhost:8080/"
        },
        "id": "yVVXb8XTYntv",
        "outputId": "d5d0d113-fe5f-42a2-96c0-d8e9bbb6e28b"
      },
      "execution_count": 159,
      "outputs": [
        {
          "output_type": "stream",
          "name": "stdout",
          "text": [
            "[[748 253]\n",
            " [ 22 978]]\n"
          ]
        },
        {
          "output_type": "execute_result",
          "data": {
            "text/plain": [
              "0.862568715642179"
            ]
          },
          "metadata": {},
          "execution_count": 159
        }
      ]
    },
    {
      "cell_type": "code",
      "source": [
        "from sklearn.metrics import classification_report\n",
        "print(classification_report(y_test,y_pred))"
      ],
      "metadata": {
        "colab": {
          "base_uri": "https://localhost:8080/"
        },
        "id": "QNwsS_e0YwGS",
        "outputId": "3d1ecaf2-e956-4099-e6e5-333d59077314"
      },
      "execution_count": 29,
      "outputs": [
        {
          "output_type": "stream",
          "name": "stdout",
          "text": [
            "              precision    recall  f1-score   support\n",
            "\n",
            "         0.0       0.97      0.75      0.85      1001\n",
            "         1.0       0.80      0.98      0.88      1000\n",
            "\n",
            "    accuracy                           0.87      2001\n",
            "   macro avg       0.88      0.87      0.86      2001\n",
            "weighted avg       0.88      0.87      0.86      2001\n",
            "\n"
          ]
        }
      ]
    },
    {
      "cell_type": "markdown",
      "source": [
        "# **K-NN**"
      ],
      "metadata": {
        "id": "9B7XqvX9Yx6w"
      }
    },
    {
      "cell_type": "code",
      "source": [
        "from sklearn.neighbors import KNeighborsClassifier\n",
        "kn = KNeighborsClassifier(n_neighbors = 15, metric = 'minkowski', p = 2)\n",
        "kn.fit(x_train, y_train)"
      ],
      "metadata": {
        "colab": {
          "base_uri": "https://localhost:8080/"
        },
        "id": "VPX932IJY7s7",
        "outputId": "09c7bd7d-55e9-4e84-ad68-52f90fb7e215"
      },
      "execution_count": 119,
      "outputs": [
        {
          "output_type": "stream",
          "name": "stderr",
          "text": [
            "/usr/local/lib/python3.7/dist-packages/sklearn/neighbors/_classification.py:198: DataConversionWarning: A column-vector y was passed when a 1d array was expected. Please change the shape of y to (n_samples,), for example using ravel().\n",
            "  return self._fit(X, y)\n"
          ]
        },
        {
          "output_type": "execute_result",
          "data": {
            "text/plain": [
              "KNeighborsClassifier(n_neighbors=15)"
            ]
          },
          "metadata": {},
          "execution_count": 119
        }
      ]
    },
    {
      "cell_type": "code",
      "source": [
        "y_pred = kn.predict(x_test)"
      ],
      "metadata": {
        "colab": {
          "base_uri": "https://localhost:8080/"
        },
        "id": "ZZVhai57ZAie",
        "outputId": "1fa4da94-5c1e-4fbc-9612-8dd74b438b04"
      },
      "execution_count": 120,
      "outputs": [
        {
          "output_type": "stream",
          "name": "stderr",
          "text": [
            "/usr/local/lib/python3.7/dist-packages/sklearn/base.py:493: FutureWarning: The feature names should match those that were passed during fit. Starting version 1.2, an error will be raised.\n",
            "Feature names unseen at fit time:\n",
            "- -1.025214493274688721e-01\n",
            "- -1.033663004636764526e-02\n",
            "- -1.036800295114517212e-01\n",
            "- -1.066513806581497192e-01\n",
            "- -1.070177853107452393e-01\n",
            "- ...\n",
            "Feature names seen at fit time, yet now missing:\n",
            "- -1.000557318329811096e-01\n",
            "- -1.001642495393753052e-01\n",
            "- -1.001687198877334595e-01\n",
            "- -1.003685966134071350e-01\n",
            "- -1.003979146480560303e-01\n",
            "- ...\n",
            "\n",
            "  warnings.warn(message, FutureWarning)\n"
          ]
        }
      ]
    },
    {
      "cell_type": "code",
      "source": [
        "from sklearn.metrics import confusion_matrix, accuracy_score\n",
        "cm = confusion_matrix(y_test, y_pred)\n",
        "print(cm)\n",
        "knn = accuracy_score(y_test, y_pred)\n",
        "knn"
      ],
      "metadata": {
        "colab": {
          "base_uri": "https://localhost:8080/"
        },
        "id": "RBdKFKKwZEYy",
        "outputId": "aeed6d54-5dd0-43e9-d468-67e63843ffda"
      },
      "execution_count": 122,
      "outputs": [
        {
          "output_type": "stream",
          "name": "stdout",
          "text": [
            "[[767 234]\n",
            " [ 26 974]]\n"
          ]
        },
        {
          "output_type": "execute_result",
          "data": {
            "text/plain": [
              "0.8700649675162418"
            ]
          },
          "metadata": {},
          "execution_count": 122
        }
      ]
    },
    {
      "cell_type": "code",
      "source": [
        "from sklearn.metrics import classification_report\n",
        "print(classification_report(y_test,y_pred))"
      ],
      "metadata": {
        "colab": {
          "base_uri": "https://localhost:8080/"
        },
        "id": "9XC1fWYCZKQi",
        "outputId": "25a64404-edb4-48f6-c8e3-7b8e820f0be2"
      },
      "execution_count": 123,
      "outputs": [
        {
          "output_type": "stream",
          "name": "stdout",
          "text": [
            "              precision    recall  f1-score   support\n",
            "\n",
            "         0.0       0.97      0.77      0.86      1001\n",
            "         1.0       0.81      0.97      0.88      1000\n",
            "\n",
            "    accuracy                           0.87      2001\n",
            "   macro avg       0.89      0.87      0.87      2001\n",
            "weighted avg       0.89      0.87      0.87      2001\n",
            "\n"
          ]
        }
      ]
    },
    {
      "cell_type": "markdown",
      "source": [
        "# **Decision Tree**"
      ],
      "metadata": {
        "id": "5fXcMm-_ZgDd"
      }
    },
    {
      "cell_type": "code",
      "source": [
        "from sklearn.tree import DecisionTreeClassifier\n",
        "clf2 = DecisionTreeClassifier(max_depth = 10, random_state = 101, max_features = None, min_samples_leaf = 15)\n",
        "clf2.fit(x_train, y_train)"
      ],
      "metadata": {
        "colab": {
          "base_uri": "https://localhost:8080/"
        },
        "id": "zurBYOxfZlCZ",
        "outputId": "53ff5b55-5695-4cdf-ddad-f2f0ba885259"
      },
      "execution_count": 130,
      "outputs": [
        {
          "output_type": "execute_result",
          "data": {
            "text/plain": [
              "DecisionTreeClassifier(max_depth=10, min_samples_leaf=15, random_state=101)"
            ]
          },
          "metadata": {},
          "execution_count": 130
        }
      ]
    },
    {
      "cell_type": "code",
      "source": [
        "y_pred = clf2.predict(x_test)"
      ],
      "metadata": {
        "colab": {
          "base_uri": "https://localhost:8080/"
        },
        "id": "UCvi0HunZq1b",
        "outputId": "0f1ee364-f2ea-486f-a307-6b5cf41197d5"
      },
      "execution_count": 131,
      "outputs": [
        {
          "output_type": "stream",
          "name": "stderr",
          "text": [
            "/usr/local/lib/python3.7/dist-packages/sklearn/base.py:493: FutureWarning: The feature names should match those that were passed during fit. Starting version 1.2, an error will be raised.\n",
            "Feature names unseen at fit time:\n",
            "- -1.025214493274688721e-01\n",
            "- -1.033663004636764526e-02\n",
            "- -1.036800295114517212e-01\n",
            "- -1.066513806581497192e-01\n",
            "- -1.070177853107452393e-01\n",
            "- ...\n",
            "Feature names seen at fit time, yet now missing:\n",
            "- -1.000557318329811096e-01\n",
            "- -1.001642495393753052e-01\n",
            "- -1.001687198877334595e-01\n",
            "- -1.003685966134071350e-01\n",
            "- -1.003979146480560303e-01\n",
            "- ...\n",
            "\n",
            "  warnings.warn(message, FutureWarning)\n"
          ]
        }
      ]
    },
    {
      "cell_type": "code",
      "source": [
        "from sklearn.metrics import confusion_matrix, accuracy_score\n",
        "cm = confusion_matrix(y_test, y_pred)\n",
        "print(cm)\n",
        "desc = accuracy_score(y_test, y_pred)\n",
        "desc"
      ],
      "metadata": {
        "colab": {
          "base_uri": "https://localhost:8080/"
        },
        "id": "oEVwQcPWZ3MM",
        "outputId": "7e72ff52-b1fa-4ae1-b727-49f4f0dde8d6"
      },
      "execution_count": 133,
      "outputs": [
        {
          "output_type": "stream",
          "name": "stdout",
          "text": [
            "[[755 246]\n",
            " [ 37 963]]\n"
          ]
        },
        {
          "output_type": "execute_result",
          "data": {
            "text/plain": [
              "0.8585707146426786"
            ]
          },
          "metadata": {},
          "execution_count": 133
        }
      ]
    },
    {
      "cell_type": "code",
      "source": [
        "from sklearn.metrics import classification_report\n",
        "print(classification_report(y_test,y_pred))"
      ],
      "metadata": {
        "colab": {
          "base_uri": "https://localhost:8080/"
        },
        "id": "N81FO-JlZ8HT",
        "outputId": "d6101fea-8348-40ed-a81f-b0c169590e95"
      },
      "execution_count": 134,
      "outputs": [
        {
          "output_type": "stream",
          "name": "stdout",
          "text": [
            "              precision    recall  f1-score   support\n",
            "\n",
            "         0.0       0.95      0.75      0.84      1001\n",
            "         1.0       0.80      0.96      0.87      1000\n",
            "\n",
            "    accuracy                           0.86      2001\n",
            "   macro avg       0.87      0.86      0.86      2001\n",
            "weighted avg       0.87      0.86      0.86      2001\n",
            "\n"
          ]
        }
      ]
    },
    {
      "cell_type": "markdown",
      "source": [
        "# **Kernel SVM**"
      ],
      "metadata": {
        "id": "a50Vdm7zaPfu"
      }
    },
    {
      "cell_type": "code",
      "source": [
        "from sklearn.svm import SVC\n",
        "classifier1 = SVC(kernel = 'linear', C =  1,  random_state = 101)\n",
        "classifier1.fit(x_train, y_train)"
      ],
      "metadata": {
        "colab": {
          "base_uri": "https://localhost:8080/"
        },
        "id": "lvIY-If-aRmS",
        "outputId": "e430b06a-9d76-47cf-8692-3ef76e62e6b6"
      },
      "execution_count": 164,
      "outputs": [
        {
          "output_type": "stream",
          "name": "stderr",
          "text": [
            "/usr/local/lib/python3.7/dist-packages/sklearn/utils/validation.py:993: DataConversionWarning: A column-vector y was passed when a 1d array was expected. Please change the shape of y to (n_samples, ), for example using ravel().\n",
            "  y = column_or_1d(y, warn=True)\n"
          ]
        },
        {
          "output_type": "execute_result",
          "data": {
            "text/plain": [
              "SVC(C=1, kernel='linear', random_state=101)"
            ]
          },
          "metadata": {},
          "execution_count": 164
        }
      ]
    },
    {
      "cell_type": "code",
      "source": [
        "y_pred = classifier1.predict(x_test)"
      ],
      "metadata": {
        "colab": {
          "base_uri": "https://localhost:8080/"
        },
        "id": "fYwMiz4Paa2V",
        "outputId": "968d025a-bea2-4f28-c796-72973289b43c"
      },
      "execution_count": 165,
      "outputs": [
        {
          "output_type": "stream",
          "name": "stderr",
          "text": [
            "/usr/local/lib/python3.7/dist-packages/sklearn/base.py:493: FutureWarning: The feature names should match those that were passed during fit. Starting version 1.2, an error will be raised.\n",
            "Feature names unseen at fit time:\n",
            "- -1.025214493274688721e-01\n",
            "- -1.033663004636764526e-02\n",
            "- -1.036800295114517212e-01\n",
            "- -1.066513806581497192e-01\n",
            "- -1.070177853107452393e-01\n",
            "- ...\n",
            "Feature names seen at fit time, yet now missing:\n",
            "- -1.000557318329811096e-01\n",
            "- -1.001642495393753052e-01\n",
            "- -1.001687198877334595e-01\n",
            "- -1.003685966134071350e-01\n",
            "- -1.003979146480560303e-01\n",
            "- ...\n",
            "\n",
            "  warnings.warn(message, FutureWarning)\n"
          ]
        }
      ]
    },
    {
      "cell_type": "code",
      "source": [
        "from sklearn.metrics import confusion_matrix, accuracy_score\n",
        "cm = confusion_matrix(y_test, y_pred)\n",
        "print(cm)\n",
        "svm = accuracy_score(y_test, y_pred)\n",
        "svm"
      ],
      "metadata": {
        "colab": {
          "base_uri": "https://localhost:8080/"
        },
        "id": "maeJvdCRajei",
        "outputId": "7c3ca514-e5ec-436e-8a69-c2ae28e02a82"
      },
      "execution_count": 166,
      "outputs": [
        {
          "output_type": "stream",
          "name": "stdout",
          "text": [
            "[[782 219]\n",
            " [ 22 978]]\n"
          ]
        },
        {
          "output_type": "execute_result",
          "data": {
            "text/plain": [
              "0.879560219890055"
            ]
          },
          "metadata": {},
          "execution_count": 166
        }
      ]
    },
    {
      "cell_type": "code",
      "source": [
        "from sklearn.metrics import classification_report\n",
        "print(classification_report(y_test,y_pred))"
      ],
      "metadata": {
        "colab": {
          "base_uri": "https://localhost:8080/"
        },
        "id": "-ln8Ozhea4TU",
        "outputId": "74101525-1911-48ab-8f0c-a4ad7226b7a5"
      },
      "execution_count": 167,
      "outputs": [
        {
          "output_type": "stream",
          "name": "stdout",
          "text": [
            "              precision    recall  f1-score   support\n",
            "\n",
            "         0.0       0.97      0.78      0.87      1001\n",
            "         1.0       0.82      0.98      0.89      1000\n",
            "\n",
            "    accuracy                           0.88      2001\n",
            "   macro avg       0.89      0.88      0.88      2001\n",
            "weighted avg       0.89      0.88      0.88      2001\n",
            "\n"
          ]
        }
      ]
    },
    {
      "cell_type": "markdown",
      "source": [
        "# **Linear SVC**"
      ],
      "metadata": {
        "id": "k2Gs3nfUeH6e"
      }
    },
    {
      "cell_type": "code",
      "source": [
        "from sklearn.svm import LinearSVC\n",
        "class3 = LinearSVC(random_state=0, tol=1e-5)\n",
        "class3.fit(x_train, y_train)"
      ],
      "metadata": {
        "colab": {
          "base_uri": "https://localhost:8080/"
        },
        "id": "-u4a6K9edUo8",
        "outputId": "60bdc7d5-e907-492a-eb8b-de0797fc5945"
      },
      "execution_count": 140,
      "outputs": [
        {
          "output_type": "stream",
          "name": "stderr",
          "text": [
            "/usr/local/lib/python3.7/dist-packages/sklearn/utils/validation.py:993: DataConversionWarning: A column-vector y was passed when a 1d array was expected. Please change the shape of y to (n_samples, ), for example using ravel().\n",
            "  y = column_or_1d(y, warn=True)\n",
            "/usr/local/lib/python3.7/dist-packages/sklearn/svm/_base.py:1208: ConvergenceWarning: Liblinear failed to converge, increase the number of iterations.\n",
            "  ConvergenceWarning,\n"
          ]
        },
        {
          "output_type": "execute_result",
          "data": {
            "text/plain": [
              "LinearSVC(random_state=0, tol=1e-05)"
            ]
          },
          "metadata": {},
          "execution_count": 140
        }
      ]
    },
    {
      "cell_type": "code",
      "source": [
        "y_pred = class3.predict(x_test)"
      ],
      "metadata": {
        "colab": {
          "base_uri": "https://localhost:8080/"
        },
        "id": "G9xocQMQeKex",
        "outputId": "131ca798-0217-46cd-b228-330dde3f1659"
      },
      "execution_count": 141,
      "outputs": [
        {
          "output_type": "stream",
          "name": "stderr",
          "text": [
            "/usr/local/lib/python3.7/dist-packages/sklearn/base.py:493: FutureWarning: The feature names should match those that were passed during fit. Starting version 1.2, an error will be raised.\n",
            "Feature names unseen at fit time:\n",
            "- -1.025214493274688721e-01\n",
            "- -1.033663004636764526e-02\n",
            "- -1.036800295114517212e-01\n",
            "- -1.066513806581497192e-01\n",
            "- -1.070177853107452393e-01\n",
            "- ...\n",
            "Feature names seen at fit time, yet now missing:\n",
            "- -1.000557318329811096e-01\n",
            "- -1.001642495393753052e-01\n",
            "- -1.001687198877334595e-01\n",
            "- -1.003685966134071350e-01\n",
            "- -1.003979146480560303e-01\n",
            "- ...\n",
            "\n",
            "  warnings.warn(message, FutureWarning)\n"
          ]
        }
      ]
    },
    {
      "cell_type": "code",
      "source": [
        "from sklearn.metrics import confusion_matrix, accuracy_score\n",
        "cm = confusion_matrix(y_test, y_pred)\n",
        "print(cm)\n",
        "svc = accuracy_score(y_test, y_pred)\n",
        "svc"
      ],
      "metadata": {
        "colab": {
          "base_uri": "https://localhost:8080/"
        },
        "id": "zMul4WybePmt",
        "outputId": "cc760dc0-de6f-436f-8ed6-ab91fd288556"
      },
      "execution_count": 144,
      "outputs": [
        {
          "output_type": "stream",
          "name": "stdout",
          "text": [
            "[[782 219]\n",
            " [ 23 977]]\n"
          ]
        },
        {
          "output_type": "execute_result",
          "data": {
            "text/plain": [
              "0.8790604697651174"
            ]
          },
          "metadata": {},
          "execution_count": 144
        }
      ]
    },
    {
      "cell_type": "code",
      "source": [
        "from sklearn.metrics import classification_report\n",
        "print(classification_report(y_test,y_pred))"
      ],
      "metadata": {
        "colab": {
          "base_uri": "https://localhost:8080/"
        },
        "id": "1nb7ZQ4GeRis",
        "outputId": "c80d2b82-a7b2-43a1-bf42-01ca9b779c20"
      },
      "execution_count": 145,
      "outputs": [
        {
          "output_type": "stream",
          "name": "stdout",
          "text": [
            "              precision    recall  f1-score   support\n",
            "\n",
            "         0.0       0.97      0.78      0.87      1001\n",
            "         1.0       0.82      0.98      0.89      1000\n",
            "\n",
            "    accuracy                           0.88      2001\n",
            "   macro avg       0.89      0.88      0.88      2001\n",
            "weighted avg       0.89      0.88      0.88      2001\n",
            "\n"
          ]
        }
      ]
    },
    {
      "cell_type": "markdown",
      "source": [
        "# **Logistic Regression**"
      ],
      "metadata": {
        "id": "769KZo9tfKwT"
      }
    },
    {
      "cell_type": "code",
      "source": [
        "from sklearn.linear_model import LogisticRegression\n",
        "classifier4 = LogisticRegression(random_state = 0)\n",
        "classifier4.fit(x_train, y_train)"
      ],
      "metadata": {
        "colab": {
          "base_uri": "https://localhost:8080/"
        },
        "id": "fctRHs56fNiN",
        "outputId": "aee37ddc-f39c-4f85-e9df-94cc0e14a597"
      },
      "execution_count": 146,
      "outputs": [
        {
          "output_type": "stream",
          "name": "stderr",
          "text": [
            "/usr/local/lib/python3.7/dist-packages/sklearn/utils/validation.py:993: DataConversionWarning: A column-vector y was passed when a 1d array was expected. Please change the shape of y to (n_samples, ), for example using ravel().\n",
            "  y = column_or_1d(y, warn=True)\n",
            "/usr/local/lib/python3.7/dist-packages/sklearn/linear_model/_logistic.py:818: ConvergenceWarning: lbfgs failed to converge (status=1):\n",
            "STOP: TOTAL NO. of ITERATIONS REACHED LIMIT.\n",
            "\n",
            "Increase the number of iterations (max_iter) or scale the data as shown in:\n",
            "    https://scikit-learn.org/stable/modules/preprocessing.html\n",
            "Please also refer to the documentation for alternative solver options:\n",
            "    https://scikit-learn.org/stable/modules/linear_model.html#logistic-regression\n",
            "  extra_warning_msg=_LOGISTIC_SOLVER_CONVERGENCE_MSG,\n"
          ]
        },
        {
          "output_type": "execute_result",
          "data": {
            "text/plain": [
              "LogisticRegression(random_state=0)"
            ]
          },
          "metadata": {},
          "execution_count": 146
        }
      ]
    },
    {
      "cell_type": "code",
      "source": [
        "y_pred = classifier4.predict(x_test)"
      ],
      "metadata": {
        "colab": {
          "base_uri": "https://localhost:8080/"
        },
        "id": "M6bXOv1EfVVA",
        "outputId": "59caeada-7424-4c11-a98a-7be716f37355"
      },
      "execution_count": 147,
      "outputs": [
        {
          "output_type": "stream",
          "name": "stderr",
          "text": [
            "/usr/local/lib/python3.7/dist-packages/sklearn/base.py:493: FutureWarning: The feature names should match those that were passed during fit. Starting version 1.2, an error will be raised.\n",
            "Feature names unseen at fit time:\n",
            "- -1.025214493274688721e-01\n",
            "- -1.033663004636764526e-02\n",
            "- -1.036800295114517212e-01\n",
            "- -1.066513806581497192e-01\n",
            "- -1.070177853107452393e-01\n",
            "- ...\n",
            "Feature names seen at fit time, yet now missing:\n",
            "- -1.000557318329811096e-01\n",
            "- -1.001642495393753052e-01\n",
            "- -1.001687198877334595e-01\n",
            "- -1.003685966134071350e-01\n",
            "- -1.003979146480560303e-01\n",
            "- ...\n",
            "\n",
            "  warnings.warn(message, FutureWarning)\n"
          ]
        }
      ]
    },
    {
      "cell_type": "code",
      "source": [
        "from sklearn.metrics import confusion_matrix, accuracy_score\n",
        "cm = confusion_matrix(y_test, y_pred)\n",
        "print(cm)\n",
        "logis = accuracy_score(y_test, y_pred)\n",
        "logis"
      ],
      "metadata": {
        "colab": {
          "base_uri": "https://localhost:8080/"
        },
        "id": "ntsN9C5TfYaO",
        "outputId": "ae88de41-ae19-485a-e97b-03e6d9e5d716"
      },
      "execution_count": 149,
      "outputs": [
        {
          "output_type": "stream",
          "name": "stdout",
          "text": [
            "[[764 237]\n",
            " [ 21 979]]\n"
          ]
        },
        {
          "output_type": "execute_result",
          "data": {
            "text/plain": [
              "0.8710644677661169"
            ]
          },
          "metadata": {},
          "execution_count": 149
        }
      ]
    },
    {
      "cell_type": "code",
      "source": [
        "from sklearn.metrics import classification_report\n",
        "print(classification_report(y_test,y_pred))"
      ],
      "metadata": {
        "colab": {
          "base_uri": "https://localhost:8080/"
        },
        "id": "QW2zSgT8fhPY",
        "outputId": "06a08510-34a1-46ce-e0bd-ad64f33ceb23"
      },
      "execution_count": 150,
      "outputs": [
        {
          "output_type": "stream",
          "name": "stdout",
          "text": [
            "              precision    recall  f1-score   support\n",
            "\n",
            "         0.0       0.97      0.76      0.86      1001\n",
            "         1.0       0.81      0.98      0.88      1000\n",
            "\n",
            "    accuracy                           0.87      2001\n",
            "   macro avg       0.89      0.87      0.87      2001\n",
            "weighted avg       0.89      0.87      0.87      2001\n",
            "\n"
          ]
        }
      ]
    },
    {
      "cell_type": "markdown",
      "source": [
        "# **Stochastic Gradient Descent**"
      ],
      "metadata": {
        "id": "SE6FCEdufxDB"
      }
    },
    {
      "cell_type": "code",
      "source": [
        "from sklearn.linear_model import SGDClassifier\n",
        "sgd = SGDClassifier(loss = 'modified_huber', shuffle = True, random_state = 101)\n",
        "sgd.fit(x_train, y_train)"
      ],
      "metadata": {
        "colab": {
          "base_uri": "https://localhost:8080/"
        },
        "id": "n194eW8bf0G7",
        "outputId": "5cd20c4e-38b7-4c11-b211-a36e464b7be2"
      },
      "execution_count": 151,
      "outputs": [
        {
          "output_type": "stream",
          "name": "stderr",
          "text": [
            "/usr/local/lib/python3.7/dist-packages/sklearn/utils/validation.py:993: DataConversionWarning: A column-vector y was passed when a 1d array was expected. Please change the shape of y to (n_samples, ), for example using ravel().\n",
            "  y = column_or_1d(y, warn=True)\n"
          ]
        },
        {
          "output_type": "execute_result",
          "data": {
            "text/plain": [
              "SGDClassifier(loss='modified_huber', random_state=101)"
            ]
          },
          "metadata": {},
          "execution_count": 151
        }
      ]
    },
    {
      "cell_type": "code",
      "source": [
        "y_pred = sgd.predict(x_test)"
      ],
      "metadata": {
        "colab": {
          "base_uri": "https://localhost:8080/"
        },
        "id": "Xeu90tqxgQ66",
        "outputId": "1c6719f2-1c4a-4577-bcef-dffe65630e98"
      },
      "execution_count": 152,
      "outputs": [
        {
          "output_type": "stream",
          "name": "stderr",
          "text": [
            "/usr/local/lib/python3.7/dist-packages/sklearn/base.py:493: FutureWarning: The feature names should match those that were passed during fit. Starting version 1.2, an error will be raised.\n",
            "Feature names unseen at fit time:\n",
            "- -1.025214493274688721e-01\n",
            "- -1.033663004636764526e-02\n",
            "- -1.036800295114517212e-01\n",
            "- -1.066513806581497192e-01\n",
            "- -1.070177853107452393e-01\n",
            "- ...\n",
            "Feature names seen at fit time, yet now missing:\n",
            "- -1.000557318329811096e-01\n",
            "- -1.001642495393753052e-01\n",
            "- -1.001687198877334595e-01\n",
            "- -1.003685966134071350e-01\n",
            "- -1.003979146480560303e-01\n",
            "- ...\n",
            "\n",
            "  warnings.warn(message, FutureWarning)\n"
          ]
        }
      ]
    },
    {
      "cell_type": "code",
      "source": [
        "from sklearn.metrics import confusion_matrix, accuracy_score\n",
        "cm = confusion_matrix(y_test, y_pred)\n",
        "print(cm)\n",
        "stoc = accuracy_score(y_test, y_pred)\n",
        "stoc"
      ],
      "metadata": {
        "colab": {
          "base_uri": "https://localhost:8080/"
        },
        "id": "BPFcFj62gXQF",
        "outputId": "602379cd-f0b8-440d-cd06-bc17dc098f73"
      },
      "execution_count": 154,
      "outputs": [
        {
          "output_type": "stream",
          "name": "stdout",
          "text": [
            "[[812 189]\n",
            " [ 28 972]]\n"
          ]
        },
        {
          "output_type": "execute_result",
          "data": {
            "text/plain": [
              "0.8915542228885557"
            ]
          },
          "metadata": {},
          "execution_count": 154
        }
      ]
    },
    {
      "cell_type": "code",
      "source": [
        "from sklearn.metrics import classification_report\n",
        "print(classification_report(y_test,y_pred))"
      ],
      "metadata": {
        "colab": {
          "base_uri": "https://localhost:8080/"
        },
        "id": "LgO2C4rJggJP",
        "outputId": "d768a551-ba40-4072-fe5a-03fa964b4bf5"
      },
      "execution_count": 155,
      "outputs": [
        {
          "output_type": "stream",
          "name": "stdout",
          "text": [
            "              precision    recall  f1-score   support\n",
            "\n",
            "         0.0       0.97      0.81      0.88      1001\n",
            "         1.0       0.84      0.97      0.90      1000\n",
            "\n",
            "    accuracy                           0.89      2001\n",
            "   macro avg       0.90      0.89      0.89      2001\n",
            "weighted avg       0.90      0.89      0.89      2001\n",
            "\n"
          ]
        }
      ]
    },
    {
      "cell_type": "markdown",
      "source": [
        "# **Final Results**"
      ],
      "metadata": {
        "id": "FMSHwlPuuynD"
      }
    },
    {
      "cell_type": "code",
      "source": [
        "print('Accuracy of MLP Model is {}'.format(mlp))\n",
        "print('Accuracy of Naive-Bays Model is {}'.format(naive))\n",
        "print('Accuracy of Random Forest Model is {}'.format(rand))\n",
        "print('Accuracy of K-NN Model is {}'.format(knn))\n",
        "print('Accuracy of Decision Tree Model is {}'.format(desc))\n",
        "print('Accuracy of Kernel Svm Model is {}'.format(svm))\n",
        "print('Accuracy of Linear SVC Model is {}'.format(svc))\n",
        "print('Accuracy of Logistic Regression Model is {}'.format(logis))\n",
        "print('Accuracy of Stochastic Gradient Descent Model is {}'.format(stoc))"
      ],
      "metadata": {
        "colab": {
          "base_uri": "https://localhost:8080/"
        },
        "id": "TPLoNVXtu77I",
        "outputId": "226a5679-7260-42fb-ce89-80f2d7d02348"
      },
      "execution_count": 168,
      "outputs": [
        {
          "output_type": "stream",
          "name": "stdout",
          "text": [
            "Accuracy of MLP Model is 0.8670664667666167\n",
            "Accuracy of Naive-Bays Model is 0.847576211894053\n",
            "Accuracy of Random Forest Model is 0.862568715642179\n",
            "Accuracy of K-NN Model is 0.879560219890055\n",
            "Accuracy of Decision Tree Model is 0.8585707146426786\n",
            "Accuracy of Kernel Svm Model is 0.879560219890055\n",
            "Accuracy of Linear SVC Model is 0.8790604697651174\n",
            "Accuracy of Logistic Regression Model is 0.8710644677661169\n",
            "Accuracy of Stochastic Gradient Descent Model is 0.8915542228885557\n"
          ]
        }
      ]
    }
  ]
}